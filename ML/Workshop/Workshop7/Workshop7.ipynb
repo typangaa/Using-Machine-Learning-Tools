{
 "cells": [
  {
   "cell_type": "markdown",
   "metadata": {},
   "source": [
    "# Workshop 7\n",
    "## Unsupervised Machine Learning"
   ]
  },
  {
   "cell_type": "code",
   "execution_count": 2,
   "metadata": {},
   "outputs": [],
   "source": [
    "%matplotlib inline\n",
    "# There are a lot of imports here but don't worry about them\n",
    "#  you can easily figure out when you need them from the docs\n",
    "#  you wouldn't be expect to know or remember these\n",
    "import pandas as pd\n",
    "import numpy as np\n",
    "import seaborn as sns; sns.set()\n",
    "import matplotlib.pyplot as plt\n",
    "#import nibabel as nib\n",
    "from sklearn.datasets import load_iris\n",
    "from sklearn.datasets import load_breast_cancer\n",
    "from sklearn.datasets import make_blobs\n",
    "from sklearn.linear_model import LinearRegression\n",
    "from sklearn.decomposition import PCA\n",
    "from sklearn.preprocessing import StandardScaler\n",
    "from sklearn import cluster, mixture, manifold, random_projection\n",
    "from scipy.cluster.hierarchy import dendrogram, linkage"
   ]
  },
  {
   "cell_type": "code",
   "execution_count": 3,
   "metadata": {},
   "outputs": [],
   "source": [
    "global_palette = 'Spectral'"
   ]
  },
  {
   "cell_type": "markdown",
   "metadata": {},
   "source": [
    "## The following cells load in the data and show a small amount of info on them"
   ]
  },
  {
   "cell_type": "code",
   "execution_count": 4,
   "metadata": {},
   "outputs": [],
   "source": [
    "# Dictionary for all datasets - each entry to store (x, labels)\n",
    "datasets={}"
   ]
  },
  {
   "cell_type": "code",
   "execution_count": 5,
   "metadata": {},
   "outputs": [
    {
     "name": "stdout",
     "output_type": "stream",
     "text": [
      "(70, 205)\n"
     ]
    },
    {
     "data": {
      "image/png": "[encoded data removed]",
      "text/plain": [
       "<Figure size 432x288 with 1 Axes>"
      ]
     },
     "metadata": {},
     "output_type": "display_data"
    }
   ],
   "source": [
    "# Dataset on children with physical and motor disabilities\n",
    "# https://archive.ics.uci.edu/ml/datasets/SCADI\n",
    "data = pd.read_csv('SCADI.csv')\n",
    "x = data.iloc[:,:-1].to_numpy(dtype=np.float64)\n",
    "labels = data[\"Classes\"].astype('category').cat.codes.to_numpy()\n",
    "datasets['scadi'] = (x, labels)\n",
    "print(x.shape)\n",
    "\n",
    "# visualise data\n",
    "#data.info()\n",
    "#print(data.describe())\n",
    "plt.hist(labels)\n",
    "plt.show()"
   ]
  },
  {
   "cell_type": "code",
   "execution_count": 6,
   "metadata": {},
   "outputs": [
    {
     "ename": "NameError",
     "evalue": "name 'nib' is not defined",
     "output_type": "error",
     "traceback": [
      "\u001b[0;31m---------------------------------------------------------------------------\u001b[0m",
      "\u001b[0;31mNameError\u001b[0m                                 Traceback (most recent call last)",
      "\u001b[0;32m<ipython-input-6-d020b2d9807c>\u001b[0m in \u001b[0;36m<module>\u001b[0;34m\u001b[0m\n\u001b[1;32m      1\u001b[0m \u001b[0;31m# Brain MRI image slice\u001b[0m\u001b[0;34m\u001b[0m\u001b[0;34m\u001b[0m\u001b[0;34m\u001b[0m\u001b[0m\n\u001b[0;32m----> 2\u001b[0;31m \u001b[0mim\u001b[0m \u001b[0;34m=\u001b[0m \u001b[0mnib\u001b[0m\u001b[0;34m.\u001b[0m\u001b[0mload\u001b[0m\u001b[0;34m(\u001b[0m\u001b[0;34m'T1_brain.nii.gz'\u001b[0m\u001b[0;34m)\u001b[0m\u001b[0;34m.\u001b[0m\u001b[0mget_data\u001b[0m\u001b[0;34m(\u001b[0m\u001b[0;34m)\u001b[0m\u001b[0;34m\u001b[0m\u001b[0;34m\u001b[0m\u001b[0m\n\u001b[0m\u001b[1;32m      3\u001b[0m \u001b[0mx_im\u001b[0m \u001b[0;34m=\u001b[0m \u001b[0mim\u001b[0m\u001b[0;34m[\u001b[0m\u001b[0;34m:\u001b[0m\u001b[0;34m,\u001b[0m\u001b[0;34m:\u001b[0m\u001b[0;34m,\u001b[0m\u001b[0;36m95\u001b[0m\u001b[0;34m]\u001b[0m\u001b[0;34m\u001b[0m\u001b[0;34m\u001b[0m\u001b[0m\n\u001b[1;32m      4\u001b[0m \u001b[0mnx\u001b[0m\u001b[0;34m,\u001b[0m \u001b[0mny\u001b[0m \u001b[0;34m=\u001b[0m \u001b[0mx_im\u001b[0m\u001b[0;34m.\u001b[0m\u001b[0mshape\u001b[0m\u001b[0;34m\u001b[0m\u001b[0;34m\u001b[0m\u001b[0m\n\u001b[1;32m      5\u001b[0m \u001b[0mx\u001b[0m \u001b[0;34m=\u001b[0m \u001b[0mx_im\u001b[0m\u001b[0;34m.\u001b[0m\u001b[0mreshape\u001b[0m\u001b[0;34m(\u001b[0m\u001b[0;34m-\u001b[0m\u001b[0;36m1\u001b[0m\u001b[0;34m,\u001b[0m\u001b[0;36m1\u001b[0m\u001b[0;34m)\u001b[0m  \u001b[0;31m# force it to be a 2D array with one column (consistent with other datasets)\u001b[0m\u001b[0;34m\u001b[0m\u001b[0;34m\u001b[0m\u001b[0m\n",
      "\u001b[0;31mNameError\u001b[0m: name 'nib' is not defined"
     ]
    }
   ],
   "source": [
    "# Brain MRI image slice\n",
    "im = nib.load('T1_brain.nii.gz').get_data()\n",
    "x_im = im[:,:,95]\n",
    "nx, ny = x_im.shape\n",
    "x = x_im.reshape(-1,1)  # force it to be a 2D array with one column (consistent with other datasets)\n",
    "# Can go back to original 2D image (for display later on) with reshape((nx,ny))\n",
    "labels = None\n",
    "datasets['brain'] = (x, labels)\n",
    "print(x.shape)\n",
    "\n",
    "# visualise data\n",
    "plt.hist(x[x>0],70)\n",
    "plt.show()\n",
    "\n",
    "plt.imshow(x_im, cmap='gray')\n",
    "plt.grid(None)\n",
    "plt.show()"
   ]
  },
  {
   "cell_type": "code",
   "execution_count": 7,
   "metadata": {},
   "outputs": [
    {
     "name": "stdout",
     "output_type": "stream",
     "text": [
      "(569, 30)\n"
     ]
    }
   ],
   "source": [
    "# Breast cancer data\n",
    "data = load_breast_cancer()\n",
    "x = data['data']\n",
    "labels = data['target']\n",
    "datasets['breast'] = (x, labels)\n",
    "print(x.shape)"
   ]
  },
  {
   "cell_type": "code",
   "execution_count": 8,
   "metadata": {},
   "outputs": [
    {
     "name": "stdout",
     "output_type": "stream",
     "text": [
      "(150, 4)\n"
     ]
    }
   ],
   "source": [
    "# Classic Iris dataset\n",
    "iris = load_iris()\n",
    "x = iris.data\n",
    "labels = iris.target\n",
    "datasets['iris'] = (x, labels)\n",
    "print(x.shape)"
   ]
  },
  {
   "cell_type": "code",
   "execution_count": 9,
   "metadata": {},
   "outputs": [
    {
     "name": "stdout",
     "output_type": "stream",
     "text": [
      "(2309, 2)\n"
     ]
    }
   ],
   "source": [
    "# Interesting 2D data\n",
    "data = np.load('clusterable_data.npy')\n",
    "x = data\n",
    "labels = None\n",
    "datasets['interesting'] = (x, labels)\n",
    "print(x.shape)"
   ]
  },
  {
   "cell_type": "code",
   "execution_count": 10,
   "metadata": {},
   "outputs": [
    {
     "name": "stdout",
     "output_type": "stream",
     "text": [
      "(200, 3)\n"
     ]
    }
   ],
   "source": [
    "# Artificial dataset\n",
    "blobs = make_blobs(n_samples=200, centers=4, n_features=3, random_state=42)\n",
    "x = blobs[0]\n",
    "labels = blobs[1]\n",
    "datasets['artificial'] = (x, labels)\n",
    "print(x.shape)"
   ]
  },
  {
   "cell_type": "markdown",
   "metadata": {},
   "source": [
    "## Apply scaling to the data (note that no imputation or outlier rejection is needed - these have already been checked)"
   ]
  },
  {
   "cell_type": "code",
   "execution_count": 11,
   "metadata": {},
   "outputs": [
    {
     "name": "stdout",
     "output_type": "stream",
     "text": [
      "scadi\n",
      "breast\n",
      "iris\n",
      "interesting\n",
      "artificial\n"
     ]
    }
   ],
   "source": [
    "# mean centre and variance scale all datasets independently\n",
    "for key in datasets:\n",
    "    print(key)\n",
    "    x, labels = datasets[key]\n",
    "    x = StandardScaler().fit_transform(x)\n",
    "    datasets[key] = (x, labels)"
   ]
  },
  {
   "cell_type": "markdown",
   "metadata": {},
   "source": [
    "## Supporting functions for viewing data and some specific visualisations"
   ]
  },
  {
   "cell_type": "code",
   "execution_count": 12,
   "metadata": {},
   "outputs": [],
   "source": [
    "def view_data(x, labels, plotdimx=0, plotdimy=1):\n",
    "    # View data (choose any two features)\n",
    "    ax = sns.scatterplot(x=x[:,plotdimx], y=x[:,plotdimy], hue=labels, palette=global_palette)\n",
    "    ax.set_title('Original data')\n",
    "    plt.show()"
   ]
  },
  {
   "cell_type": "code",
   "execution_count": 13,
   "metadata": {},
   "outputs": [],
   "source": [
    "def view_brain_image(x, labels, nx, ny):\n",
    "    im = x.reshape((nx,ny))\n",
    "    imlab = labels.reshape((nx,ny))\n",
    "    plt.imshow(im, cmap='gray')\n",
    "    plt.grid(None)\n",
    "    plt.show()\n",
    "    plt.imshow(imlab, cmap='jet')\n",
    "    plt.grid(None)\n",
    "    plt.show()"
   ]
  },
  {
   "cell_type": "code",
   "execution_count": 14,
   "metadata": {},
   "outputs": [],
   "source": [
    "def view_dendrogram(x):\n",
    "    # Hierarchical clustering\n",
    "    # Calculate and show dendogram\n",
    "    Z = linkage(x, 'ward')\n",
    "    fig = plt.figure(figsize=(25, 10))\n",
    "    dn = dendrogram(Z)\n",
    "    plt.gca().set_title('Dendrogram')\n",
    "    plt.show()"
   ]
  },
  {
   "cell_type": "code",
   "execution_count": 15,
   "metadata": {},
   "outputs": [],
   "source": [
    "def view_pca(x):\n",
    "    # PCA visualisation\n",
    "    pca = PCA()  # find all components\n",
    "    pca.fit(x)\n",
    "    \n",
    "    # show component vectors (weightings per feature)\n",
    "    ax = plt.plot(pca.components_[0],'r')\n",
    "    plt.plot(pca.components_[1],'b')\n",
    "    plt.gca().set_title('PCA Component Weights')\n",
    "    plt.show()\n",
    "    \n",
    "    # show scree plot of explained variance (the \"knee\", if it exists, can indicate data dimensionality)\n",
    "    plt.plot(pca.explained_variance_ratio_)\n",
    "    plt.gca().set_title('PCA Explained Variance')\n",
    "    plt.show()"
   ]
  },
  {
   "cell_type": "markdown",
   "metadata": {},
   "source": [
    "## Generic function for data visualisation\n",
    "This can be used by many methods (most of the code is just for plotting)"
   ]
  },
  {
   "cell_type": "code",
   "execution_count": 16,
   "metadata": {
    "scrolled": true
   },
   "outputs": [],
   "source": [
    "def visualisation(method, x, labels, plotdimx=0, plotdimy=1):\n",
    "    # General Data Visualisation\n",
    "    y = method.fit_transform(x)  # this line does all the work!\n",
    "    # do some plots\n",
    "    ax = sns.scatterplot(x=y[:,plotdimx], y=y[:,plotdimy], hue=labels, style=labels, palette=global_palette) #seaborn plotting routine\n",
    "    ax.set_title('Data Visualisation')\n",
    "    plt.show()\n",
    "    return y"
   ]
  },
  {
   "cell_type": "markdown",
   "metadata": {},
   "source": [
    "## Generic function for clustering\n",
    "This can be used by many methods (most of the code is just for plotting)"
   ]
  },
  {
   "cell_type": "code",
   "execution_count": 17,
   "metadata": {},
   "outputs": [],
   "source": [
    "def clustering(method, x, labels, plotdimx=0, plotdimy=1):\n",
    "    # General clustering (note that labels are only used for plotting purposes)\n",
    "    plabs = method.fit_predict(x)   # this line does all the work!\n",
    "    # do some plots\n",
    "    if x.shape[1]>1:\n",
    "        if labels is not None:\n",
    "            ax = sns.scatterplot(x=x[:,plotdimx],y=x[:,plotdimy], hue=plabs, size=labels, style=labels, palette=global_palette, legend=None)\n",
    "            ax.set_title('Colour is based on cluster labels; Size and style are based on ground truth')\n",
    "        else: # if there are no labels\n",
    "            ax = sns.scatterplot(x=x[:,0],y=x[:,1], hue=plabs, palette=global_palette, legend=None)\n",
    "            ax.set_title('Colour is based on cluster labels')\n",
    "    else:  # for 1D data\n",
    "        plt.hist(x[x>0],70)\n",
    "        plt.show()\n",
    "        sns.scatterplot(x=x[:,0], y=x[:,0]*0, hue=plabs, palette=global_palette, legend=None)\n",
    "    plt.show()\n",
    "    return plabs"
   ]
  },
  {
   "cell_type": "markdown",
   "metadata": {},
   "source": [
    "# Below here is where you start making changes\n",
    "Separate cells for exploring visualisation (first) and clustering (second)\n",
    "\n",
    "See suggested list of things to do after these cells"
   ]
  },
  {
   "cell_type": "markdown",
   "metadata": {},
   "source": [
    "## Visualisation and dimensionality reduction"
   ]
  },
  {
   "cell_type": "code",
   "execution_count": 18,
   "metadata": {
    "scrolled": true
   },
   "outputs": [
    {
     "ename": "KeyError",
     "evalue": "'YOUR_CHOICE'",
     "output_type": "error",
     "traceback": [
      "\u001b[0;31m---------------------------------------------------------------------------\u001b[0m",
      "\u001b[0;31mKeyError\u001b[0m                                  Traceback (most recent call last)",
      "\u001b[0;32m<ipython-input-18-9cae832e8035>\u001b[0m in \u001b[0;36m<module>\u001b[0;34m\u001b[0m\n\u001b[1;32m     10\u001b[0m \u001b[0mpca\u001b[0m \u001b[0;34m=\u001b[0m \u001b[0mPCA\u001b[0m\u001b[0;34m(\u001b[0m\u001b[0mn_components\u001b[0m\u001b[0;34m=\u001b[0m\u001b[0mn_comp\u001b[0m\u001b[0;34m)\u001b[0m\u001b[0;34m\u001b[0m\u001b[0;34m\u001b[0m\u001b[0m\n\u001b[1;32m     11\u001b[0m \u001b[0;34m\u001b[0m\u001b[0m\n\u001b[0;32m---> 12\u001b[0;31m \u001b[0mx\u001b[0m\u001b[0;34m,\u001b[0m \u001b[0mlabels\u001b[0m \u001b[0;34m=\u001b[0m \u001b[0mdatasets\u001b[0m\u001b[0;34m[\u001b[0m\u001b[0;34m'YOUR_CHOICE'\u001b[0m\u001b[0;34m]\u001b[0m  \u001b[0;31m# e.g. 'iris'\u001b[0m\u001b[0;34m\u001b[0m\u001b[0;34m\u001b[0m\u001b[0m\n\u001b[0m\u001b[1;32m     13\u001b[0m \u001b[0;34m\u001b[0m\u001b[0m\n\u001b[1;32m     14\u001b[0m \u001b[0mview_data\u001b[0m\u001b[0;34m(\u001b[0m\u001b[0mx\u001b[0m\u001b[0;34m,\u001b[0m \u001b[0mlabels\u001b[0m\u001b[0;34m)\u001b[0m\u001b[0;34m\u001b[0m\u001b[0;34m\u001b[0m\u001b[0m\n",
      "\u001b[0;31mKeyError\u001b[0m: 'YOUR_CHOICE'"
     ]
    }
   ],
   "source": [
    "# Apply some visualisation methods\n",
    "# Note that many of these can also be used to dimensionality reduction\n",
    "\n",
    "n_comp = 2   # YOUR_CHOICE (though for visualisation 2D is common)\n",
    "\n",
    "tsne = manifold.TSNE(n_components=n_comp)\n",
    "mds = manifold.MDS(n_components=n_comp)\n",
    "lle = manifold.LocallyLinearEmbedding(n_components=n_comp)\n",
    "isom = manifold.Isomap(n_components=n_comp)\n",
    "pca = PCA(n_components=n_comp)\n",
    "\n",
    "x, labels = datasets['YOUR_CHOICE']  # e.g. 'iris'\n",
    "\n",
    "view_data(x, labels)\n",
    "view_pca(x)\n",
    "view_dendrogram(x)  # This will not always be appropriate\n",
    "\n",
    "y = visualisation(YOUR_CHOICE, x, labels)  # e.g. tsne"
   ]
  },
  {
   "cell_type": "markdown",
   "metadata": {},
   "source": [
    "## Clustering"
   ]
  },
  {
   "cell_type": "code",
   "execution_count": 19,
   "metadata": {},
   "outputs": [
    {
     "ename": "KeyError",
     "evalue": "'YOUR_CHOICE'",
     "output_type": "error",
     "traceback": [
      "\u001b[0;31m---------------------------------------------------------------------------\u001b[0m",
      "\u001b[0;31mKeyError\u001b[0m                                  Traceback (most recent call last)",
      "\u001b[0;32m<ipython-input-19-8904ecc869b7>\u001b[0m in \u001b[0;36m<module>\u001b[0;34m\u001b[0m\n\u001b[1;32m      8\u001b[0m \u001b[0;34m\u001b[0m\u001b[0m\n\u001b[1;32m      9\u001b[0m \u001b[0;34m\u001b[0m\u001b[0m\n\u001b[0;32m---> 10\u001b[0;31m \u001b[0mx\u001b[0m\u001b[0;34m,\u001b[0m \u001b[0mlabels\u001b[0m \u001b[0;34m=\u001b[0m \u001b[0mdatasets\u001b[0m\u001b[0;34m[\u001b[0m\u001b[0;34m'YOUR_CHOICE'\u001b[0m\u001b[0;34m]\u001b[0m   \u001b[0;31m# e.g. 'iris'\u001b[0m\u001b[0;34m\u001b[0m\u001b[0;34m\u001b[0m\u001b[0m\n\u001b[0m\u001b[1;32m     11\u001b[0m \u001b[0mview_data\u001b[0m\u001b[0;34m(\u001b[0m\u001b[0mx\u001b[0m\u001b[0;34m,\u001b[0m \u001b[0mlabels\u001b[0m\u001b[0;34m)\u001b[0m\u001b[0;34m\u001b[0m\u001b[0;34m\u001b[0m\u001b[0m\n\u001b[1;32m     12\u001b[0m \u001b[0;34m\u001b[0m\u001b[0m\n",
      "\u001b[0;31mKeyError\u001b[0m: 'YOUR_CHOICE'"
     ]
    }
   ],
   "source": [
    "num_clusters = 4  # YOUR_CHOICE\n",
    "\n",
    "kmeans = cluster.KMeans(n_clusters=num_clusters)\n",
    "gmm = mixture.GaussianMixture(n_components=num_clusters)\n",
    "ward = cluster.AgglomerativeClustering(n_clusters=num_clusters, linkage='ward')\n",
    "dbsc = cluster.DBSCAN(eps=7, min_samples=10)  # These are the key parameters to change\n",
    "spec = cluster.SpectralClustering(n_clusters=num_clusters)\n",
    "\n",
    "\n",
    "x, labels = datasets['YOUR_CHOICE']   # e.g. 'iris'\n",
    "view_data(x, labels)\n",
    "\n",
    "plabs = clustering(YOUR_CHOICE, x, labels)  # e.g. kmeans\n",
    "#view_brain_image(x, plabs, nx, ny)   # only use if you select 'brain' above"
   ]
  },
  {
   "cell_type": "markdown",
   "metadata": {},
   "source": [
    "# What to do:\n",
    "Now consider what to investigate in your group (or on your own):\n",
    "\n",
    "1) results across different datasets using default methods (visualisation and clustering)\n",
    "\n",
    "2) effect of parameters on particular methods (for a limited number of datasets)\n",
    "\n",
    "3) stability wrt noise\n",
    "\n",
    "4) stability wrt dataset size (subsampling)\n",
    "\n",
    "5) measuring consensus amongst methods\n",
    "\n",
    "6) measuring \"success\" wrt labels (when available)\n",
    "\n",
    "7) try using PCA for dimensionality reduction and feeding the reduced datasets into clustering methods\n",
    "\n",
    " Post your \"best\" results and a short statement of your findings/observations in the MyUni Discussion forum here:\n",
    "    https://myuni.adelaide.edu.au/courses/51290/discussion_topics/379026\n",
    "    \n",
    "    "
   ]
  },
  {
   "cell_type": "code",
   "execution_count": null,
   "metadata": {},
   "outputs": [],
   "source": []
  },
  {
   "cell_type": "code",
   "execution_count": null,
   "metadata": {},
   "outputs": [],
   "source": []
  }
 ],
 "metadata": {
  "kernelspec": {
   "display_name": "Python 3",
   "language": "python",
   "name": "python3"
  },
  "language_info": {
   "codemirror_mode": {
    "name": "ipython",
    "version": 3
   },
   "file_extension": ".py",
   "mimetype": "text/x-python",
   "name": "python",
   "nbconvert_exporter": "python",
   "pygments_lexer": "ipython3",
   "version": "3.7.6"
  }
 },
 "nbformat": 4,
 "nbformat_minor": 2
}
