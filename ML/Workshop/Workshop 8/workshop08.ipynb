{
 "cells": [
  {
   "cell_type": "markdown",
   "metadata": {},
   "source": [
    "# Workshop 8 - Introduction to Deep Neural Networks\n",
    "\n",
    "Code for workshop 8.  This will use Keras (within tensorflow v2) to build a small fully connected network. "
   ]
  },
  {
   "cell_type": "code",
   "execution_count": 1,
   "metadata": {},
   "outputs": [],
   "source": [
    "# Python ≥3.5 is required\n",
    "import sys\n",
    "assert sys.version_info >= (3, 5)\n",
    "\n",
    "# Scikit-Learn ≥0.20 is required\n",
    "import sklearn\n",
    "assert sklearn.__version__ >= \"0.20\"\n",
    "\n",
    "# Common imports\n",
    "import numpy as np\n",
    "import os, time\n",
    "import pandas as pd\n",
    "\n",
    "# Our new Deep Learning imports\n",
    "import tensorflow as tf\n",
    "from tensorflow import keras\n",
    "\n",
    "# To plot nice figures\n",
    "%matplotlib inline\n",
    "import matplotlib as mpl\n",
    "import matplotlib.pyplot as plt\n",
    "mpl.rc('axes', labelsize=14)\n",
    "mpl.rc('xtick', labelsize=12)\n",
    "mpl.rc('ytick', labelsize=12)\n",
    "import seaborn as sns; sns.set()"
   ]
  },
  {
   "cell_type": "code",
   "execution_count": 27,
   "metadata": {},
   "outputs": [
    {
     "name": "stdout",
     "output_type": "stream",
     "text": [
      "2.1.0\n",
      "2.2.4-tf\n"
     ]
    }
   ],
   "source": [
    "# Check the versions are OK (both should be 2 or more)\n",
    "print(tf.__version__)\n",
    "print(keras.__version__)"
   ]
  },
  {
   "cell_type": "code",
   "execution_count": 32,
   "metadata": {},
   "outputs": [
    {
     "name": "stdout",
     "output_type": "stream",
     "text": [
      "Num GPUs Available:  0\n"
     ]
    }
   ],
   "source": [
    "print(\"Num GPUs Available: \", len(tf.config.experimental.list_physical_devices('GPU')))\n"
   ]
  },
  {
   "cell_type": "markdown",
   "metadata": {},
   "source": [
    "## Load data\n",
    "We will use fashion MNIST, which is a set of small images (28x28) that contain 10 different fashion items - see below for class names and an example image."
   ]
  },
  {
   "cell_type": "code",
   "execution_count": 3,
   "metadata": {},
   "outputs": [
    {
     "name": "stdout",
     "output_type": "stream",
     "text": [
      "Downloading data from https://storage.googleapis.com/tensorflow/tf-keras-datasets/train-labels-idx1-ubyte.gz\n",
      "32768/29515 [=================================] - 0s 1us/step\n",
      "Downloading data from https://storage.googleapis.com/tensorflow/tf-keras-datasets/train-images-idx3-ubyte.gz\n",
      "26427392/26421880 [==============================] - 14s 1us/step\n",
      "Downloading data from https://storage.googleapis.com/tensorflow/tf-keras-datasets/t10k-labels-idx1-ubyte.gz\n",
      "8192/5148 [===============================================] - 0s 0us/step\n",
      "Downloading data from https://storage.googleapis.com/tensorflow/tf-keras-datasets/t10k-images-idx3-ubyte.gz\n",
      "4423680/4422102 [==============================] - 2s 1us/step\n"
     ]
    }
   ],
   "source": [
    "# This is a built-in data for keras, so easily accessible\n",
    "fashion_mnist = keras.datasets.fashion_mnist\n",
    "(X_train_full, y_train_full), (X_test, y_test) = fashion_mnist.load_data()"
   ]
  },
  {
   "cell_type": "code",
   "execution_count": 4,
   "metadata": {},
   "outputs": [
    {
     "name": "stdout",
     "output_type": "stream",
     "text": [
      "(60000, 28, 28)\n",
      "(10000, 28, 28)\n"
     ]
    }
   ],
   "source": [
    "# Let's see how big it is\n",
    "print(X_train_full.shape)\n",
    "print(X_test.shape)\n",
    "n_total = X_train_full.shape[0]"
   ]
  },
  {
   "cell_type": "code",
   "execution_count": 5,
   "metadata": {},
   "outputs": [
    {
     "name": "stdout",
     "output_type": "stream",
     "text": [
      "float64\n",
      "float64\n",
      "Coat\n"
     ]
    },
    {
     "data": {
      "image/png": "[encoded data removed]",
      "text/plain": [
       "<Figure size 432x288 with 1 Axes>"
      ]
     },
     "metadata": {},
     "output_type": "display_data"
    }
   ],
   "source": [
    "# Scale the data appropriately (it starts with max of 255, but we want max of 1)\n",
    "# We will do this \"by hand\" here, but we could build a pipeline scaler for this instead\n",
    "# We also split the training set given to us into training and validation subsets\n",
    "#   The value of 5000 samples as the size of the validation set is an arbitrary choice\n",
    "X_test = X_test/255.0\n",
    "X_valid, X_train = X_train_full[:5000]/255.0, X_train_full[5000:]/255.0 \n",
    "y_valid, y_train = y_train_full[:5000], y_train_full[5000:]\n",
    "class_names = np.array([ \"T-shirt/top\" , \"Trouser\" , \"Pullover\" , \"Dress\" , \"Coat\" , \"Sandal\" , \n",
    "               \"Shirt\" , \"Sneaker\" , \"Bag\" , \"Ankle boot\" ])\n",
    "\n",
    "# Inspect some aspects of the data (in general, you should play around with the data \n",
    "#                                   more than this to get a feel for it)\n",
    "# Check that scaled types are appropriate\n",
    "print(X_train.dtype)\n",
    "print(X_valid.dtype)\n",
    "# Look at first item\n",
    "print(class_names[y_train[0]])\n",
    "plt.imshow(X_train[0,:,:], cmap='gray')\n",
    "plt.grid(False)\n",
    "plt.show()"
   ]
  },
  {
   "cell_type": "code",
   "execution_count": 6,
   "metadata": {},
   "outputs": [
    {
     "data": {
      "image/png": "[encoded data removed]",
      "text/plain": [
       "<Figure size 432x288 with 1 Axes>"
      ]
     },
     "metadata": {},
     "output_type": "display_data"
    },
    {
     "data": {
      "image/png": "[encoded data removed]",
      "text/plain": [
       "<Figure size 432x288 with 1 Axes>"
      ]
     },
     "metadata": {},
     "output_type": "display_data"
    },
    {
     "data": {
      "image/png": "[encoded data removed]",
      "text/plain": [
       "<Figure size 432x288 with 1 Axes>"
      ]
     },
     "metadata": {},
     "output_type": "display_data"
    }
   ],
   "source": [
    "# Let's look at the distribution of labels in the training, validation and test sets\n",
    "plt.hist(y_train)\n",
    "plt.show()\n",
    "plt.hist(y_valid)\n",
    "plt.show()\n",
    "plt.hist(y_test)\n",
    "plt.show()"
   ]
  },
  {
   "cell_type": "markdown",
   "metadata": {},
   "source": [
    "## Simple Neural Network Code with Keras\n",
    "\n",
    "We will use the keras version built into tensorflow version 2.\n",
    "It is remarkably simple for building, training and evaluating networks."
   ]
  },
  {
   "cell_type": "code",
   "execution_count": 7,
   "metadata": {},
   "outputs": [],
   "source": [
    "# This is *all* the code needed to define the network architecture\n",
    "#  1 input layer + 2 hidden layers of sizes 300 and 100 + 1 output layer\n",
    "model = keras.models.Sequential()   # This is a style of building networks - the easiest option\n",
    "model.add(keras.layers.Flatten(input_shape = [28 , 28]))   # our inputs are 28 x 28 arrays, so need to become 1D\n",
    "model.add(keras.layers.Dense(300, activation = \"relu\"))    # first hidden layer\n",
    "model.add(keras.layers.Dense(100, activation = \"relu\"))    # second hidden layer\n",
    "model.add(keras.layers.Dense(10, activation = \"softmax\"))  # output layer"
   ]
  },
  {
   "cell_type": "code",
   "execution_count": 8,
   "metadata": {},
   "outputs": [
    {
     "name": "stdout",
     "output_type": "stream",
     "text": [
      "Model: \"sequential\"\n",
      "_________________________________________________________________\n",
      "Layer (type)                 Output Shape              Param #   \n",
      "=================================================================\n",
      "flatten (Flatten)            (None, 784)               0         \n",
      "_________________________________________________________________\n",
      "dense (Dense)                (None, 300)               235500    \n",
      "_________________________________________________________________\n",
      "dense_1 (Dense)              (None, 100)               30100     \n",
      "_________________________________________________________________\n",
      "dense_2 (Dense)              (None, 10)                1010      \n",
      "=================================================================\n",
      "Total params: 266,610\n",
      "Trainable params: 266,610\n",
      "Non-trainable params: 0\n",
      "_________________________________________________________________\n"
     ]
    }
   ],
   "source": [
    "# Print out some info on the network - take note of the number of parameters (weights and biases)\n",
    "# Can you calculate the number of parameters yourself?\n",
    "model.summary()"
   ]
  },
  {
   "cell_type": "code",
   "execution_count": 9,
   "metadata": {},
   "outputs": [],
   "source": [
    "# Couple the architecture definition to a loss function and optimiser (and other performance metrics)\n",
    "# Note that we use sparse_categorical_crossentropy because the entries in y_train are just numbers from 0 to 9\n",
    "# If y_train was encoded as one-hot vectors, then the appropriate loss would be categorical_crossentropy instead\n",
    "# We will use the SGD optimiser here, but Adam is another popular choice\n",
    "model.compile(loss=\"sparse_categorical_crossentropy\", optimizer=\"sgd\", metrics=[\"accuracy\"])"
   ]
  },
  {
   "cell_type": "code",
   "execution_count": 10,
   "metadata": {},
   "outputs": [
    {
     "name": "stdout",
     "output_type": "stream",
     "text": [
      "Train on 55000 samples, validate on 5000 samples\n",
      "Epoch 1/5\n",
      "55000/55000 [==============================] - 2s 37us/sample - loss: 0.7093 - accuracy: 0.7661 - val_loss: 0.5048 - val_accuracy: 0.8330\n",
      "Epoch 2/5\n",
      "55000/55000 [==============================] - 2s 34us/sample - loss: 0.4854 - accuracy: 0.8311 - val_loss: 0.4510 - val_accuracy: 0.8470\n",
      "Epoch 3/5\n",
      "55000/55000 [==============================] - 2s 34us/sample - loss: 0.4419 - accuracy: 0.8452 - val_loss: 0.4116 - val_accuracy: 0.8570\n",
      "Epoch 4/5\n",
      "55000/55000 [==============================] - 2s 35us/sample - loss: 0.4144 - accuracy: 0.8551 - val_loss: 0.4139 - val_accuracy: 0.8540\n",
      "Epoch 5/5\n",
      "55000/55000 [==============================] - 2s 43us/sample - loss: 0.3939 - accuracy: 0.8615 - val_loss: 0.4008 - val_accuracy: 0.8626\n"
     ]
    }
   ],
   "source": [
    "# Now train (fit) the model, specifying appropriate data and number of epochs (small here to save time)\n",
    "# Save the history of metrics versus epochs - *always* keep this\n",
    "history = model.fit(X_train, y_train, epochs=5, validation_data=(X_valid, y_valid))"
   ]
  },
  {
   "cell_type": "code",
   "execution_count": 11,
   "metadata": {},
   "outputs": [
    {
     "data": {
      "image/png": "[encoded data removed]",
      "text/plain": [
       "<Figure size 576x360 with 1 Axes>"
      ]
     },
     "metadata": {},
     "output_type": "display_data"
    }
   ],
   "source": [
    "# Simple way to plot the history information (see later for more detail)\n",
    "pd.DataFrame(history.history).plot(figsize=(8 , 5))\n",
    "plt.show()"
   ]
  },
  {
   "cell_type": "code",
   "execution_count": 12,
   "metadata": {},
   "outputs": [
    {
     "name": "stdout",
     "output_type": "stream",
     "text": [
      "[0.4393832145690918, 0.8448]\n"
     ]
    }
   ],
   "source": [
    "# Now run the model on the test set and get results (loss and accuracy both reported)\n",
    "testres = model.evaluate(X_test, y_test, verbose=0)\n",
    "print(testres)"
   ]
  },
  {
   "cell_type": "code",
   "execution_count": 13,
   "metadata": {},
   "outputs": [
    {
     "name": "stdout",
     "output_type": "stream",
     "text": [
      "[9 2 1]\n",
      "['Ankle boot' 'Pullover' 'Trouser']\n",
      "['Ankle boot' 'Pullover' 'Trouser']\n"
     ]
    },
    {
     "data": {
      "image/png": "[encoded data removed]",
      "text/plain": [
       "<Figure size 432x288 with 1 Axes>"
      ]
     },
     "metadata": {},
     "output_type": "display_data"
    }
   ],
   "source": [
    "# We can inspect the output class predictions\n",
    "y_pred = model.predict_classes(X_test[:3])  # use the first three test cases as an example\n",
    "print(y_pred)   # predicted classes\n",
    "print(class_names[y_pred])   # names of these classes (prediction)\n",
    "print(class_names[y_test[:3]])   # names of true classes\n",
    "# Display an image of the first test sample\n",
    "plt.imshow(X_test[0].reshape((28,28)), cmap=\"gray\")\n",
    "plt.grid(False)"
   ]
  },
  {
   "cell_type": "code",
   "execution_count": 14,
   "metadata": {},
   "outputs": [
    {
     "name": "stdout",
     "output_type": "stream",
     "text": [
      "[[0.   0.   0.   0.   0.   0.05 0.   0.14 0.   0.82]\n",
      " [0.   0.   0.85 0.   0.06 0.   0.09 0.   0.   0.  ]\n",
      " [0.   1.   0.   0.   0.   0.   0.   0.   0.   0.  ]]\n"
     ]
    }
   ],
   "source": [
    "# We can also look at the probability of predicting each class rather than the class with max probability\n",
    "# Each row has ten probabilities (one per class)\n",
    "y_proba = model.predict(X_test[:3])\n",
    "print(y_proba.round(2))  # round to two decimal places when printing"
   ]
  },
  {
   "cell_type": "code",
   "execution_count": 15,
   "metadata": {},
   "outputs": [
    {
     "name": "stdout",
     "output_type": "stream",
     "text": [
      "0.01\n"
     ]
    }
   ],
   "source": [
    "# We used many defaults, but we can find out what they are: e.g. learning rate is ...\n",
    "print(keras.backend.eval(model.optimizer.lr))"
   ]
  },
  {
   "cell_type": "markdown",
   "metadata": {},
   "source": [
    "# Now for a little more detail\n",
    "\n",
    "For example, why make these particular choices for architecture and parameters.\n",
    "\n",
    "We will set up some more general code so that we can build and compare a range of networks."
   ]
  },
  {
   "cell_type": "code",
   "execution_count": 16,
   "metadata": {},
   "outputs": [],
   "source": [
    "# More general settings\n",
    "# Let's allow the size of the training and validation sets to change\n",
    "#n_train = n_total   # as above\n",
    "#n_valid = 5000      # as above\n",
    "n_train = 5000   # smaller set\n",
    "n_valid = 1000\n",
    "# Define the number and size of hidden layers\n",
    "#hiddensizes = [300, 100]  # this was what we did above\n",
    "hiddensizes = [100]   # instead, try a simpler one (only one layer)\n",
    "# Define the activation function to be used by hidden layers\n",
    "actfn = \"relu\"\n",
    "# Optimiser and learning rate\n",
    "optimizer = keras.optimizers.SGD\n",
    "learningrate = 0.01\n",
    "# Set size of batch and number of epochs\n",
    "batch_size = 50\n",
    "n_epochs = 20"
   ]
  },
  {
   "cell_type": "code",
   "execution_count": 17,
   "metadata": {},
   "outputs": [
    {
     "data": {
      "image/png": "[encoded data removed]",
      "text/plain": [
       "<Figure size 432x288 with 1 Axes>"
      ]
     },
     "metadata": {},
     "output_type": "display_data"
    },
    {
     "data": {
      "image/png": "[encoded data removed]",
      "text/plain": [
       "<Figure size 432x288 with 1 Axes>"
      ]
     },
     "metadata": {},
     "output_type": "display_data"
    },
    {
     "data": {
      "image/png": "[encoded data removed]",
      "text/plain": [
       "<Figure size 432x288 with 1 Axes>"
      ]
     },
     "metadata": {},
     "output_type": "display_data"
    }
   ],
   "source": [
    "# Let's look at the distribution of labels in the training, validation and test sets we will use\n",
    "plt.hist(y_train[:n_train])\n",
    "plt.show()\n",
    "plt.hist(y_valid[:n_valid])\n",
    "plt.show()\n",
    "plt.hist(y_test)\n",
    "plt.show()"
   ]
  },
  {
   "cell_type": "code",
   "execution_count": 18,
   "metadata": {},
   "outputs": [],
   "source": [
    "# Build a more general model using various settings\n",
    "def model_factory(hiddensizes, actfn, optimizer, learningrate):\n",
    "    model = keras.models.Sequential()\n",
    "    model.add(keras.layers.Flatten(input_shape = [28 , 28]))    # always have same sized inputs\n",
    "    for n in hiddensizes:\n",
    "        model.add(keras.layers.Dense(n, activation = actfn))\n",
    "    model.add(keras.layers.Dense(10, activation = \"softmax\"))   # always have 10 classes\n",
    "    model.compile(loss=\"sparse_categorical_crossentropy\", optimizer=optimizer(lr=learningrate), metrics=[\"accuracy\"])\n",
    "    return model"
   ]
  },
  {
   "cell_type": "code",
   "execution_count": 19,
   "metadata": {},
   "outputs": [
    {
     "name": "stdout",
     "output_type": "stream",
     "text": [
      "Model: \"sequential_1\"\n",
      "_________________________________________________________________\n",
      "Layer (type)                 Output Shape              Param #   \n",
      "=================================================================\n",
      "flatten_1 (Flatten)          (None, 784)               0         \n",
      "_________________________________________________________________\n",
      "dense_3 (Dense)              (None, 100)               78500     \n",
      "_________________________________________________________________\n",
      "dense_4 (Dense)              (None, 10)                1010      \n",
      "=================================================================\n",
      "Total params: 79,510\n",
      "Trainable params: 79,510\n",
      "Non-trainable params: 0\n",
      "_________________________________________________________________\n",
      "Train on 5000 samples, validate on 1000 samples\n",
      "Epoch 1/20\n",
      "5000/5000 [==============================] - 0s 51us/sample - loss: 1.6542 - accuracy: 0.5292 - val_loss: 1.2427 - val_accuracy: 0.6780\n",
      "Epoch 2/20\n",
      "5000/5000 [==============================] - 0s 20us/sample - loss: 1.1083 - accuracy: 0.6758 - val_loss: 0.9671 - val_accuracy: 0.7120\n",
      "Epoch 3/20\n",
      "5000/5000 [==============================] - 0s 20us/sample - loss: 0.9230 - accuracy: 0.7092 - val_loss: 0.8578 - val_accuracy: 0.7400\n",
      "Epoch 4/20\n",
      "5000/5000 [==============================] - 0s 20us/sample - loss: 0.8312 - accuracy: 0.7346 - val_loss: 0.7800 - val_accuracy: 0.7590\n",
      "Epoch 5/20\n",
      "5000/5000 [==============================] - 0s 20us/sample - loss: 0.7725 - accuracy: 0.7510 - val_loss: 0.7392 - val_accuracy: 0.7650\n",
      "Epoch 6/20\n",
      "5000/5000 [==============================] - ETA: 0s - loss: 0.7293 - accuracy: 0.76 - 0s 20us/sample - loss: 0.7297 - accuracy: 0.7662 - val_loss: 0.7125 - val_accuracy: 0.7680\n",
      "Epoch 7/20\n",
      "5000/5000 [==============================] - 0s 20us/sample - loss: 0.6972 - accuracy: 0.7748 - val_loss: 0.6841 - val_accuracy: 0.7820\n",
      "Epoch 8/20\n",
      "5000/5000 [==============================] - 0s 20us/sample - loss: 0.6696 - accuracy: 0.7788 - val_loss: 0.6573 - val_accuracy: 0.7950\n",
      "Epoch 9/20\n",
      "5000/5000 [==============================] - 0s 21us/sample - loss: 0.6460 - accuracy: 0.7920 - val_loss: 0.6438 - val_accuracy: 0.7930\n",
      "Epoch 10/20\n",
      "5000/5000 [==============================] - 0s 21us/sample - loss: 0.6273 - accuracy: 0.7930 - val_loss: 0.6264 - val_accuracy: 0.7960\n",
      "Epoch 11/20\n",
      "5000/5000 [==============================] - 0s 20us/sample - loss: 0.6123 - accuracy: 0.7960 - val_loss: 0.6110 - val_accuracy: 0.8070\n",
      "Epoch 12/20\n",
      "5000/5000 [==============================] - 0s 20us/sample - loss: 0.5952 - accuracy: 0.8012 - val_loss: 0.5933 - val_accuracy: 0.8090\n",
      "Epoch 13/20\n",
      "5000/5000 [==============================] - 0s 20us/sample - loss: 0.5823 - accuracy: 0.8052 - val_loss: 0.5778 - val_accuracy: 0.8160\n",
      "Epoch 14/20\n",
      "5000/5000 [==============================] - 0s 21us/sample - loss: 0.5710 - accuracy: 0.8106 - val_loss: 0.5681 - val_accuracy: 0.8210\n",
      "Epoch 15/20\n",
      "5000/5000 [==============================] - 0s 20us/sample - loss: 0.5584 - accuracy: 0.8142 - val_loss: 0.5648 - val_accuracy: 0.8320\n",
      "Epoch 16/20\n",
      "5000/5000 [==============================] - 0s 21us/sample - loss: 0.5490 - accuracy: 0.8156 - val_loss: 0.5535 - val_accuracy: 0.8250\n",
      "Epoch 17/20\n",
      "5000/5000 [==============================] - 0s 21us/sample - loss: 0.5376 - accuracy: 0.8184 - val_loss: 0.5471 - val_accuracy: 0.8270\n",
      "Epoch 18/20\n",
      "5000/5000 [==============================] - 0s 20us/sample - loss: 0.5312 - accuracy: 0.8224 - val_loss: 0.5489 - val_accuracy: 0.8220\n",
      "Epoch 19/20\n",
      "5000/5000 [==============================] - 0s 20us/sample - loss: 0.5231 - accuracy: 0.8220 - val_loss: 0.5337 - val_accuracy: 0.8210\n",
      "Epoch 20/20\n",
      "5000/5000 [==============================] - 0s 20us/sample - loss: 0.5160 - accuracy: 0.8278 - val_loss: 0.5294 - val_accuracy: 0.8240\n"
     ]
    }
   ],
   "source": [
    "# Create our model\n",
    "model = model_factory(hiddensizes, actfn, optimizer, learningrate)\n",
    "# Show summary info\n",
    "model.summary()\n",
    "# Train it\n",
    "history = model.fit(X_train[:n_train], y_train[:n_train], epochs=n_epochs, validation_data=(X_valid[:n_valid], y_valid[:n_valid]), \n",
    "                    batch_size=batch_size)"
   ]
  },
  {
   "cell_type": "code",
   "execution_count": 20,
   "metadata": {},
   "outputs": [
    {
     "data": {
      "image/png": "[encoded data removed]",
      "text/plain": [
       "<Figure size 576x360 with 1 Axes>"
      ]
     },
     "metadata": {},
     "output_type": "display_data"
    }
   ],
   "source": [
    "# Plot the results (shifting validation curves appropriately)\n",
    "plt.figure(figsize=(8,5))\n",
    "plt.plot(np.arange(0,n_epochs),history.history['accuracy'], color='orange')\n",
    "plt.plot(np.arange(0,n_epochs),history.history['loss'],'b')\n",
    "plt.plot(np.arange(0,n_epochs)+0.5,history.history['val_accuracy'],'r')  # offset both validation curves\n",
    "plt.plot(np.arange(0,n_epochs)+0.5,history.history['val_loss'],'g')\n",
    "plt.legend(['Train Acc','Train Loss','Val Acc','Val Loss'])\n",
    "plt.grid(True)\n",
    "plt.gca().set_ylim(0, 1) # set the vertical range to [0-1] \n",
    "plt.show() "
   ]
  },
  {
   "cell_type": "code",
   "execution_count": 21,
   "metadata": {},
   "outputs": [
    {
     "name": "stdout",
     "output_type": "stream",
     "text": [
      "Best validation accuracy = 0.832\n",
      "Accuracy on test set = 0.803\n"
     ]
    }
   ],
   "source": [
    "# Display best accuracy on validation set\n",
    "max_val_acc = np.max(history.history['val_accuracy'])\n",
    "print(f'Best validation accuracy = {max_val_acc:.3f}')   # NB: .3f displays 3 decimal places\n",
    "# Evaluate on testset\n",
    "testres = model.evaluate(X_test, y_test, verbose=0)\n",
    "print(f'Accuracy on test set = {testres[1]:.3f}')"
   ]
  },
  {
   "cell_type": "code",
   "execution_count": 22,
   "metadata": {},
   "outputs": [],
   "source": [
    "def do_all(hiddensizes, actfn, optimizer, learningrate, n_train, n_valid, n_epochs, batch_size):\n",
    "    # Create our model\n",
    "    model = model_factory(hiddensizes, actfn, optimizer, learningrate)\n",
    "    # Train it\n",
    "    history = model.fit(X_train[:n_train], y_train[:n_train], epochs=n_epochs, validation_data=(X_valid[:n_valid], y_valid[:n_valid]), \n",
    "                        batch_size=batch_size)\n",
    "    max_val_acc = np.max(history.history['val_accuracy'])\n",
    "    testres = model.evaluate(X_test, y_test, verbose=0)\n",
    "    return (max_val_acc, testres[1], history)"
   ]
  },
  {
   "cell_type": "code",
   "execution_count": 25,
   "metadata": {},
   "outputs": [],
   "source": [
    "def random_model():\n",
    "    # Make some random selections to see how performance varies with network size and training set size\n",
    "    lsize=[10,100,1000]   # just have three options for layer sizes\n",
    "    # start with three candidate layers\n",
    "    hiddensizes = [lsize[np.random.randint(0,3)], lsize[np.random.randint(0,3)], lsize[np.random.randint(0,3)]]\n",
    "    # then keep between 1 and 3 layers\n",
    "    hiddensizes = hiddensizes[:np.random.randint(1,4)]\n",
    "    n_train = np.random.randint(1,10)*10**np.random.randint(2,4)  # numbers between 100 and 9000 (logarithmically selected)\n",
    "    n_epochs = 10  # to speed things up a bit (not recommended for proper evaluation)\n",
    "    # Now build, run and report\n",
    "    valacc, testacc, history = do_all(hiddensizes, actfn, optimizer, learningrate, n_train, n_valid, n_epochs, batch_size)\n",
    "    print(f'Settings are: {(hiddensizes, actfn, optimizer, learningrate, n_train, n_valid, n_epochs, batch_size)}')\n",
    "    print(f'Validation accuracy = {valacc:.3f} and Test accuracy = {testacc:.3f}')\n",
    "    print('Paste the following line into the workshop chat')\n",
    "    retval = [hiddensizes, n_train, valacc, testacc]\n",
    "    print(retval)\n",
    "    return retval"
   ]
  },
  {
   "cell_type": "code",
   "execution_count": 26,
   "metadata": {},
   "outputs": [
    {
     "name": "stdout",
     "output_type": "stream",
     "text": [
      "Train on 8000 samples, validate on 1000 samples\n",
      "Epoch 1/10\n",
      "8000/8000 [==============================] - 0s 60us/sample - loss: 2.0707 - accuracy: 0.2089 - val_loss: 1.8654 - val_accuracy: 0.3090\n",
      "Epoch 2/10\n",
      "8000/8000 [==============================] - 0s 37us/sample - loss: 1.6911 - accuracy: 0.3273 - val_loss: 1.4741 - val_accuracy: 0.4680\n",
      "Epoch 3/10\n",
      "8000/8000 [==============================] - 0s 37us/sample - loss: 1.2897 - accuracy: 0.5422 - val_loss: 1.0765 - val_accuracy: 0.6250\n",
      "Epoch 4/10\n",
      "8000/8000 [==============================] - 0s 38us/sample - loss: 0.9820 - accuracy: 0.6334 - val_loss: 0.8803 - val_accuracy: 0.6990\n",
      "Epoch 5/10\n",
      "8000/8000 [==============================] - 0s 40us/sample - loss: 0.8422 - accuracy: 0.6969 - val_loss: 0.7849 - val_accuracy: 0.7230\n",
      "Epoch 6/10\n",
      "8000/8000 [==============================] - 0s 38us/sample - loss: 0.7656 - accuracy: 0.7274 - val_loss: 0.7401 - val_accuracy: 0.7490\n",
      "Epoch 7/10\n",
      "8000/8000 [==============================] - 0s 38us/sample - loss: 0.7143 - accuracy: 0.7499 - val_loss: 0.6997 - val_accuracy: 0.7710\n",
      "Epoch 8/10\n",
      "8000/8000 [==============================] - 0s 38us/sample - loss: 0.6747 - accuracy: 0.7697 - val_loss: 0.6608 - val_accuracy: 0.7950\n",
      "Epoch 9/10\n",
      "8000/8000 [==============================] - 0s 37us/sample - loss: 0.6413 - accuracy: 0.7784 - val_loss: 0.6268 - val_accuracy: 0.8040\n",
      "Epoch 10/10\n",
      "8000/8000 [==============================] - 0s 36us/sample - loss: 0.6129 - accuracy: 0.7936 - val_loss: 0.6000 - val_accuracy: 0.8060\n",
      "Settings are: ([1000, 10, 10], 'relu', <class 'tensorflow.python.keras.optimizer_v2.gradient_descent.SGD'>, 0.01, 8000, 1000, 10, 50)\n",
      "Validation accuracy = 0.806 and Test accuracy = 0.785\n",
      "Paste the following line into the workshop chat\n",
      "[[1000, 10, 10], 8000, 0.806, 0.7846]\n"
     ]
    }
   ],
   "source": [
    "res = random_model()"
   ]
  },
  {
   "cell_type": "code",
   "execution_count": null,
   "metadata": {},
   "outputs": [],
   "source": []
  }
 ],
 "metadata": {
  "kernelspec": {
   "display_name": "Python 3",
   "language": "python",
   "name": "python3"
  },
  "language_info": {
   "codemirror_mode": {
    "name": "ipython",
    "version": 3
   },
   "file_extension": ".py",
   "mimetype": "text/x-python",
   "name": "python",
   "nbconvert_exporter": "python",
   "pygments_lexer": "ipython3",
   "version": "3.7.6"
  }
 },
 "nbformat": 4,
 "nbformat_minor": 2
}
